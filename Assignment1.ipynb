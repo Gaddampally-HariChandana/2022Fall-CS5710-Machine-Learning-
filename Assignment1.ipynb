{
 "cells": [
  {
   "cell_type": "code",
   "execution_count": 15,
   "metadata": {},
   "outputs": [
    {
     "name": "stdout",
     "output_type": "stream",
     "text": [
      "min value = 19\n",
      "max value = 26\n",
      "add min age and max age again to the list = [19, 19, 19, 20, 22, 24, 24, 24, 25, 25, 26, 26]\n",
      "median = 24.0\n",
      "average = 22.75\n",
      "range = 7\n"
     ]
    }
   ],
   "source": [
    "\n",
    "#######################    QUESTION 1     ##########################\n",
    "\n",
    "ages = [19, 22, 19, 24, 20, 25, 26, 24, 25, 24]\n",
    "#1. Sort the list and find the min and max age\n",
    "#sorting\n",
    "ages.sort()\n",
    "#print(\"sorted ages =\",ages)\n",
    "#minimum\n",
    "print(\"min value =\",min(ages))\n",
    "#maximum\n",
    "print(\"max value =\",max(ages))\n",
    "\n",
    "#2. Add the min age and the max age again to the list\n",
    "#adding minimum age to list\n",
    "ages.insert(0,min(ages))\n",
    "#adding maximum age to list\n",
    "ages.insert(-1,max(ages))\n",
    "print(\"add min age and max age again to the list =\",ages)\n",
    "\n",
    "#3. Find the median age (one middle item or two middle items divided by two)\n",
    "#importing statistics to use median\n",
    "#import statistics\n",
    "import numpy\n",
    "#print(\"median =\",statistics.median(ages))\n",
    "print(\"median =\",numpy.median(ages))\n",
    "#4. Find the average age (sum of all items divided by their number)\n",
    "#average =sum/length\n",
    "#sum\n",
    "s = sum(ages)\n",
    "#length\n",
    "l = len(ages)\n",
    "#average\n",
    "average = s/l\n",
    "print(\"average =\",average)\n",
    "\n",
    "#5. Find the range of the ages (max minus min)\n",
    "#range = max-min\n",
    "range = max(ages)-min(ages)\n",
    "print(\"range =\",range)\n"
   ]
  },
  {
   "cell_type": "code",
   "execution_count": 16,
   "metadata": {},
   "outputs": [
    {
     "name": "stdout",
     "output_type": "stream",
     "text": [
      "9\n",
      "['Python', 'Machine Learning', 'Deep Learning']\n",
      "<class 'list'>\n",
      "{'first_name': 'Chandana', 'last_name': 'G', 'gender': 'F', 'age': 25.5, 'marital status': 'Single', 'skills': ['Python', 'Machine Learning', 'Deep Learning', 'NLP'], 'Country': 'USA', 'City': 'OP', 'Address': {'street': 'Thomas Jefferson st', 'zipcode': '00000'}}\n",
      "['first_name', 'last_name', 'gender', 'age', 'marital status', 'skills', 'Country', 'City', 'Address']\n",
      "['Chandana', 'G', 'F', 25.5, 'Single', ['Python', 'Machine Learning', 'Deep Learning', 'NLP'], 'USA', 'OP', {'street': 'Thomas Jefferson st', 'zipcode': '00000'}]\n"
     ]
    }
   ],
   "source": [
    "#######################    QUESTION 2     ##########################\n",
    "#1. Create an empty dictionary called dog\n",
    "dog = {}\n",
    "\n",
    "#2. Add name, color, breed, legs, age to the dog dictionary\n",
    "dog = {\"name\" : \"Ginger\", \"color\" : \"wheat\", \"breed\" : \"husk\",\"legs\" : 4, \"age\" : 2.5}\n",
    "\n",
    "#3. Create a student dictionary and add first_name, last_name, gender, age, \n",
    "#   marital status, skills, country, city and address as keys for the dictionary\n",
    "student = {\"first_name\" : \"Chandana\", \"last_name\" : \"G\", \"gender\" : \"F\", \n",
    "           \"age\" : 25.5, \"marital status\" : \"Single\", \n",
    "           \"skills\" : [\"Python\",\"Machine Learning\",\"Deep Learning\"], \n",
    "           \"Country\" : \"USA\", \"City\" : \"OP\", \n",
    "           \"Address\" : {\"street\" : \"Thomas Jefferson st\", \"zipcode\" : \"00000\"}}\n",
    "\n",
    "#4. Get the length of the student dictionary\n",
    "print(len(student))\n",
    "\n",
    "#5. Get the value of skills and check the data type, it should be a list\n",
    "a = student.get(\"skills\")\n",
    "print(a)\n",
    "print(type(a))\n",
    "\n",
    "#6. Modify the skills values by adding one or two skills\n",
    "student[\"skills\"].append(\"NLP\")\n",
    "print(student)\n",
    "\n",
    "#7. Get the dictionary keys as a list\n",
    "print(list(student.keys()))\n",
    "\n",
    "#8. Get the dictionary values as a list\n",
    "print(list(student.values()))\n"
   ]
  },
  {
   "cell_type": "code",
   "execution_count": 17,
   "metadata": {},
   "outputs": [
    {
     "name": "stdout",
     "output_type": "stream",
     "text": [
      "('Krysten', 'Emma', 'Selena')\n",
      "('Edward', 'Jacob', 'Richard')\n",
      "('Edward', 'Jacob', 'Richard', 'Krysten', 'Emma', 'Selena')\n",
      "6\n",
      "('Edward', 'Jacob', 'Richard', 'Krysten', 'Emma', 'Selena', 'Romeo', 'Juliet')\n"
     ]
    }
   ],
   "source": [
    "#######################    QUESTION 3     ##########################\n",
    "#1. Create a tuple containing names of your sisters and your brothers (imaginary siblings are fine)\n",
    "sisters = (\"Krysten\",\"Emma\",\"Selena\")\n",
    "brothers = (\"Edward\",\"Jacob\",\"Richard\")\n",
    "print(sisters)\n",
    "print(brothers)\n",
    "#2. Join brothers and sisters tuples and assign it to siblings\n",
    "siblings = brothers + sisters\n",
    "print(siblings)\n",
    "#3. How many siblings do you have?\n",
    "print(len(siblings))\n",
    "#4. Modify the siblings tuple and add the name of your father and mother and assign it to family_members\n",
    "#converting tuple to list\n",
    "a = list(siblings)\n",
    "#adding father name\n",
    "a.append(\"Romeo\")\n",
    "#adding mother name\n",
    "a.append(\"Juliet\")\n",
    "#converting list to tuple & assigning to family_members\n",
    "family_members = tuple(a)\n",
    "print(family_members)\n"
   ]
  },
  {
   "cell_type": "code",
   "execution_count": 18,
   "metadata": {},
   "outputs": [
    {
     "name": "stdout",
     "output_type": "stream",
     "text": [
      "7\n",
      "{'IBM', 'Google', 'Twitter', 'Microsoft', 'Apple', 'Oracle', 'Facebook', 'Amazon'}\n",
      "{'HP', 'Honeywell', 'Apple', 'IBM', 'Cognizant', 'Microsoft', 'Facebook', 'Twitter', 'Oracle', 'Google', 'Amazon'}\n",
      "{'Honeywell', 'Apple', 'IBM', 'Cognizant', 'Microsoft', 'Facebook', 'Twitter', 'Oracle', 'Google', 'Amazon'}\n",
      "remove() and discard() both the methods are used to remove a specific item from the set.\n",
      "The only difference is remove() method generates error if the specific item is not found in the set whereas\n",
      "discard() method doesnot give any error if the specific item is not found.\n",
      "{19, 20, 22, 24, 25, 26, 27, 28}\n",
      "{19, 20, 22, 24, 25, 26}\n",
      "True\n",
      "False\n",
      "{19, 20, 22, 24, 25, 26, 27, 28}\n",
      "{19, 20, 22, 24, 25, 26, 27, 28}\n",
      "set()\n",
      "8\n",
      "5\n",
      "Here length of set = 5, where as length of list = 8\n"
     ]
    }
   ],
   "source": [
    "#######################    QUESTION 4     ##########################\n",
    "it_companies = {'Facebook', 'Google', 'Microsoft', 'Apple', 'IBM', 'Oracle', 'Amazon'}\n",
    "A = {19, 22, 24, 20, 25, 26}\n",
    "B = {19, 22, 20, 25, 26, 24, 28, 27}\n",
    "ages = [22, 19, 24, 25, 26, 24, 25, 24]\n",
    "\n",
    "#1. Find the length of the set it_companies\n",
    "print(len(it_companies))\n",
    "\n",
    "\n",
    "#2. Add 'Twitter' to it_companies\n",
    "it_companies.add('Twitter')\n",
    "print(it_companies)\n",
    "\n",
    "#3. Insert multiple IT companies at once to the set it_companies\n",
    "it_companies.update(['HP','Honeywell','Cognizant'])\n",
    "print(it_companies)\n",
    "\n",
    "#4. Remove one of the companies from the set it_companies\n",
    "it_companies.pop()\n",
    "print(it_companies)\n",
    "\n",
    "#5. What is the difference between remove and discard\n",
    "print('''remove() and discard() both the methods are used to remove a specific item from the set.\n",
    "The only difference is remove() method generates error if the specific item is not found in the set whereas\n",
    "discard() method doesnot give any error if the specific item is not found.''')\n",
    "\n",
    "#6. Join A and B\n",
    "#A U B\n",
    "U = A.union(B)\n",
    "print(U)\n",
    "\n",
    "#7. Find A intersection B\n",
    "I = A.intersection(B)\n",
    "print(I)\n",
    "\n",
    "#8. Is A subset of B\n",
    "print(A.issubset(B))\n",
    "\n",
    "#9. Are A and B disjoint sets\n",
    "print(A.isdisjoint(B))\n",
    "#print(B.isdisjoint(A))\n",
    "\n",
    "#10. Join A with B and B with A\n",
    "#A with B\n",
    "A.update(B)\n",
    "print(A)\n",
    "#B with A\n",
    "B.update(A)\n",
    "print(B)\n",
    "\n",
    "#11. What is the symmetric difference between A and B\n",
    "print(A.symmetric_difference(B))\n",
    "\n",
    "#12. Delete the sets completely\n",
    "del it_companies\n",
    "del A\n",
    "del B\n",
    "'''print(it_companies)\n",
    "print(A)\n",
    "print(B)'''\n",
    "\n",
    "#13. Convert the ages to a set and compare the length of the list and the set. \n",
    "print(len(ages))\n",
    "age = set(ages)\n",
    "print(len(age))\n",
    "print(\"Here length of set = 5, where as length of list = 8\")"
   ]
  },
  {
   "cell_type": "code",
   "execution_count": 19,
   "metadata": {},
   "outputs": [
    {
     "name": "stdout",
     "output_type": "stream",
     "text": [
      "_area_of_circle_ = 2826.0\n",
      "_circum_of_circle_ = 188.4\n",
      "28.259999999999998\n"
     ]
    }
   ],
   "source": [
    "#######################    QUESTION 5     ##########################\n",
    "# Given the radius of a circle is 30 meters.\n",
    "#1. Calculate the area of a circle and assign the value to a variable name of _area_of_circle_\n",
    "#area of circle = Pi*r*r\n",
    "pi = 3.14\n",
    "r = 30 #given\n",
    "area = pi*r*r\n",
    "print(\"_area_of_circle_ =\",area)\n",
    "#2. Calculate the circumference of a circle and assign the value to a variable name of _circum_of_circle_\n",
    "#circumference of a circle = 2*pi*r\n",
    "circumference = 2*pi*r\n",
    "print(\"_circum_of_circle_ =\",circumference)\n",
    "#3. Take radius as user input and calculate the area\n",
    "rad = float(input(\"Enter the circle's radius : \"))\n",
    "area = pi*rad*rad\n",
    "print(area)"
   ]
  },
  {
   "cell_type": "code",
   "execution_count": 20,
   "metadata": {},
   "outputs": [
    {
     "name": "stdout",
     "output_type": "stream",
     "text": [
      "{'to', 'teacher', 'love', 'and', 'inspire', 'I', 'a', 'teach', 'people', 'am'}\n",
      "10\n"
     ]
    }
   ],
   "source": [
    "#######################    QUESTION 6     ##########################\n",
    "Sent = \"I am a teacher and I love to inspire and teach people\"\n",
    "#1. How many unique words have been used in the sentence? Use the split methods and set to get the unique words.\n",
    "W = set(Sent.split(' ')) #in variable Sent, splitting each word with space seperator i.e., splitting each word at space by making it a set.\n",
    "print(W)\n",
    "print(len(W))\n"
   ]
  },
  {
   "cell_type": "code",
   "execution_count": 21,
   "metadata": {},
   "outputs": [
    {
     "name": "stdout",
     "output_type": "stream",
     "text": [
      "Name     \tAge\tCountry \tCity\n",
      "Asabeneh\t250 \tFinland \tHelsinki\n"
     ]
    }
   ],
   "source": [
    "#######################    QUESTION 7     ##########################\n",
    "#1. Use a tab escape sequence to get the following lines.\n",
    "'''Name Age Country City\n",
    "   Asabeneh 250 Finland Helsinki'''\n",
    "   # \\t is the tab escape sequence character\n",
    "print(\"Name     \\tAge\\tCountry \\tCity\")\n",
    "print(\"Asabeneh\\t250 \\tFinland \\tHelsinki\")                              \n",
    " "
   ]
  },
  {
   "cell_type": "code",
   "execution_count": 22,
   "metadata": {},
   "outputs": [
    {
     "name": "stdout",
     "output_type": "stream",
     "text": [
      "The area of a circle with radius 10 is 314.0 meters square.\n"
     ]
    }
   ],
   "source": [
    "#######################    QUESTION 8     ##########################\n",
    "\"\"\"Given\n",
    "Use the string formatting method to display the following:\n",
    "radius = 10\n",
    "area = 3.14 * radius ** 2\n",
    "“The area of a circle with radius 10 is 314 meters square.”\n",
    "\"\"\"\n",
    "radius = 10\n",
    "area = 3.14 * radius ** 2\n",
    "text = \"The area of a circle with radius {} is {} meters square.\"\n",
    "print(text.format(radius,area)) #string format method\n"
   ]
  },
  {
   "cell_type": "code",
   "execution_count": 1,
   "metadata": {},
   "outputs": [
    {
     "name": "stdout",
     "output_type": "stream",
     "text": [
      "input weight of students in lbs :  [2.2]\n",
      "weight of students in kgs :  [0.9977000000000001]\n",
      "input weight of students in lbs :  [2.2, 3.2]\n",
      "weight of students in kgs :  [0.9977000000000001, 1.4512]\n"
     ]
    }
   ],
   "source": [
    "#######################    QUESTION 9     ##########################\n",
    "'''Write a program, which reads weights (lbs.) of N students into a list and convert these weights to\n",
    "kilograms in a separate list using Loop. N: No of students (Read input from user)'''\n",
    "L = []\n",
    "L2 = []\n",
    "N = int(input(\"Enter no. of students : \"))\n",
    "\n",
    "for i in range(0,N) :\n",
    "    W = float(input(\"Enter the weights in lbs: \"))  \n",
    "    W2 = W*0.4535 #conversion from lb to kg\n",
    "    L.append(W) \n",
    "    print(\"input weight of students in lbs : \",L) #weight in lbs\n",
    "    L2.append(W2)\n",
    "    print(\"weight of students in kgs : \",L2) #weight in kilograms\n",
    "    \n",
    "    \n"
   ]
  },
  {
   "cell_type": "code",
   "execution_count": 2,
   "metadata": {},
   "outputs": [
    {
     "name": "stdout",
     "output_type": "stream",
     "text": [
      "[[1 0]\n",
      " [2 0]\n",
      " [3 0]\n",
      " [6 0]]\n",
      "[0 0 1 1]\n"
     ]
    },
    {
     "data": {
      "text/plain": [
       "array([1, 1, 1, 1])"
      ]
     },
     "execution_count": 2,
     "metadata": {},
     "output_type": "execute_result"
    }
   ],
   "source": [
    "#######################    QUESTION 10     ##########################\n",
    "#1. Divide this data equally into two parts. Use first part as training and second part as testing.\n",
    "#   Using KNN classifier, for K=3, what would be the predicted outputs for the test samples? Show how you arrived at your answer. \n",
    "\n",
    "#importing required libraries\n",
    "import numpy as np  \n",
    "#sklearn (scikit learn) is the package of machine learning algorithms\n",
    "from sklearn.model_selection import train_test_split #for splitting data\n",
    "from sklearn.neighbors import KNeighborsClassifier #KNN implementation\n",
    "#datasets from the given graph\n",
    "p = np.array([[1,0],[2,0],[3,0],[6,0],[6,0],[7,0],[10,0],[11,0]])\n",
    "#data point classes\n",
    "q = np.array([0,0,1,1,1,0,0,0])\n",
    "#splitting the data equally into training and testing\n",
    "p_train, p_test, q_train, q_test = train_test_split(p,q,test_size = 0.5, random_state = 0, shuffle = False)\n",
    "print(p_train)\n",
    "print(q_train)\n",
    "#KNN implementation\n",
    "neighbor = KNeighborsClassifier(n_neighbors =3) #k=3\n",
    "#data fitting (KNN fitting from training data)\n",
    "neighbor.fit(p_train,q_train)\n",
    "#predicting output\n",
    "q_pred = neighbor.predict(p_test)\n",
    "q_pred"
   ]
  },
  {
   "cell_type": "code",
   "execution_count": 3,
   "metadata": {},
   "outputs": [
    {
     "data": {
      "text/plain": [
       "array([[0, 3],\n",
       "       [0, 1]], dtype=int64)"
      ]
     },
     "execution_count": 3,
     "metadata": {},
     "output_type": "execute_result"
    }
   ],
   "source": [
    "#2. Compute the confusion matrix for this and calculate accuracy, sensitivity and specificity values. \n",
    "#importing confusion matrix\n",
    "from sklearn.metrics import confusion_matrix\n",
    "#test class labels comparison with predicted class labels\n",
    "confusion_matrix(q_test,q_pred)\n",
    "#acc_score = accuracy_score(q_test, q_pred)"
   ]
  }
 ],
 "metadata": {
  "kernelspec": {
   "display_name": "Python 3.10.6 64-bit",
   "language": "python",
   "name": "python3"
  },
  "language_info": {
   "codemirror_mode": {
    "name": "ipython",
    "version": 3
   },
   "file_extension": ".py",
   "mimetype": "text/x-python",
   "name": "python",
   "nbconvert_exporter": "python",
   "pygments_lexer": "ipython3",
   "version": "3.10.6"
  },
  "orig_nbformat": 4,
  "vscode": {
   "interpreter": {
    "hash": "34858fb4650e4f08c5273abdf3b94d08eabaf2da6ad278d4e34e857f9bde1bd0"
   }
  }
 },
 "nbformat": 4,
 "nbformat_minor": 2
}
